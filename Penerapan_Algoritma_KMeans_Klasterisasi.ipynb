{
 "cells": [
  {
   "cell_type": "code",
   "execution_count": null,
   "metadata": {},
   "outputs": [],
   "source": []
  },
  {
   "cell_type": "markdown",
   "metadata": {},
   "source": [
    "## Nama : Arif Suryadin\n",
    "## Nim : 221011400607\n",
    "## Kelas : 04tple013\n",
    "## Matkul : Data Mining"
   ]
  },
  {
   "cell_type": "markdown",
   "metadata": {},
   "source": []
  },
  {
   "cell_type": "markdown",
   "metadata": {},
   "source": [
    "# Penerapan Algoritma K-Means untuk Klasterisasi Data\n",
    "\n",
    "Dalam notebook ini, kita akan melakukan klasterisasi pada dataset menggunakan algoritma K-Means. Dataset yang digunakan adalah data fiktif yang memiliki dua fitur, yaitu 'x' dan 'y'."
   ]
  },
  {
   "cell_type": "markdown",
   "metadata": {},
   "source": [
    "## Langkah 1: Import Library\n",
    "\n",
    "Pertama, kita akan mengimpor library yang diperlukan yaitu `pandas`, `KMeans` dari `sklearn.cluster`, dan `matplotlib.pyplot`."
   ]
  },
  {
   "cell_type": "code",
   "execution_count": null,
   "metadata": {},
   "outputs": [],
   "source": [
    "import pandas as pd\n",
    "from sklearn.cluster import KMeans\n",
    "import matplotlib.pyplot as plt"
   ]
  },
  {
   "cell_type": "markdown",
   "metadata": {},
   "source": [
    "## Langkah 2: Membuat Dataset\n",
    "\n",
    "Selanjutnya, kita akan membuat dataset fiktif yang memiliki dua fitur: 'x' dan 'y'."
   ]
  },
  {
   "cell_type": "code",
   "execution_count": null,
   "metadata": {},
   "outputs": [],
   "source": [
    "data = {'x': [25, 34, 22, 27, 33, 36, 30, 29, 35, 30],\n",
    "        'y': [79, 51, 53, 77, 92, 98, 91, 72, 81, 50]}\n",
    "df = pd.DataFrame(data)"
   ]
  },
  {
   "cell_type": "markdown",
   "metadata": {},
   "source": [
    "## Langkah 3: Menentukan Jumlah Cluster\n",
    "\n",
    "Kita akan menentukan jumlah cluster yang diinginkan (misalnya 2) dan mengaplikasikan algoritma K-Means pada dataset."
   ]
  },
  {
   "cell_type": "code",
   "execution_count": null,
   "metadata": {},
   "outputs": [],
   "source": [
    "kmeans = KMeans(n_clusters=2)\n",
    "kmeans.fit(df)"
   ]
  },
  {
   "cell_type": "markdown",
   "metadata": {},
   "source": [
    "## Langkah 4: Menambahkan Hasil Klaster ke DataFrame\n",
    "\n",
    "Setelah klasterisasi dilakukan, kita akan menambahkan hasil klaster ke dalam DataFrame sebagai kolom baru."
   ]
  },
  {
   "cell_type": "code",
   "execution_count": null,
   "metadata": {},
   "outputs": [],
   "source": [
    "df['cluster'] = kmeans.labels_"
   ]
  },
  {
   "cell_type": "markdown",
   "metadata": {},
   "source": [
    "## Langkah 5: Visualisasi Hasil Klasterisasi\n",
    "\n",
    "Terakhir, kita akan memvisualisasikan hasil klasterisasi menggunakan scatter plot."
   ]
  },
  {
   "cell_type": "code",
   "execution_count": null,
   "metadata": {},
   "outputs": [],
   "source": [
    "plt.scatter(df['x'], df['y'], c=df['cluster'], cmap='viridis')\n",
    "plt.xlabel('x')\n",
    "plt.ylabel('y')\n",
    "plt.title('Hasil Klasterisasi dengan K-Means')\n",
    "plt.show()"
   ]
  }
 ],
 "metadata": {
  "kernelspec": {
   "display_name": "Python 3",
   "language": "python",
   "name": "python3"
  },
  "language_info": {
   "codemirror_mode": {
    "name": "ipython",
    "version": 3
   },
   "file_extension": ".py",
   "mimetype": "text/x-python",
   "name": "python",
   "nbconvert_exporter": "python",
   "pygments_lexer": "ipython3",
   "version": "3.8.5"
  }
 },
 "nbformat": 4,
 "nbformat_minor": 4
}
